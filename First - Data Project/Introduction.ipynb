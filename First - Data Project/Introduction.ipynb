{
 "cells": [
  {
   "cell_type": "markdown",
   "id": "1a433c1e",
   "metadata": {},
   "source": [
    "## **First - Data Capstone Project**"
   ]
  },
  {
   "cell_type": "markdown",
   "id": "6b3a709f",
   "metadata": {},
   "source": []
  }
 ],
 "metadata": {
  "language_info": {
   "name": "python"
  }
 },
 "nbformat": 4,
 "nbformat_minor": 5
}
